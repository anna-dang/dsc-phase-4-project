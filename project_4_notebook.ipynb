{
  "nbformat": 4,
  "nbformat_minor": 0,
  "metadata": {
    "colab": {
      "name": "proj_4_redo.ipynb",
      "provenance": [],
      "collapsed_sections": [],
      "authorship_tag": "ABX9TyMVtJRKXp0zfRBUDcCN1yjB",
      "include_colab_link": true
    },
    "kernelspec": {
      "name": "python3",
      "display_name": "Python 3"
    }
  },
  "cells": [
    {
      "cell_type": "markdown",
      "metadata": {
        "id": "view-in-github",
        "colab_type": "text"
      },
      "source": [
        "<a href=\"https://colab.research.google.com/github/anna-dang/dsc-phase-4-project/blob/main/project_4_notebook.ipynb\" target=\"_parent\"><img src=\"https://colab.research.google.com/assets/colab-badge.svg\" alt=\"Open In Colab\"/></a>"
      ]
    },
    {
      "cell_type": "markdown",
      "metadata": {
        "id": "CUcUjjrpJD3b"
      },
      "source": [
        "# Project Title\n",
        "Describe data source, competition goal, etc. etc."
      ]
    },
    {
      "cell_type": "markdown",
      "metadata": {
        "id": "eUDIYbWiHBip"
      },
      "source": [
        "### Import libraries and download data"
      ]
    },
    {
      "cell_type": "code",
      "metadata": {
        "colab": {
          "base_uri": "https://localhost:8080/"
        },
        "id": "yDZ-zonSsKyV",
        "outputId": "9517ff58-236a-4e99-f612-02409691dcd6"
      },
      "source": [
        "import os\n",
        "from google.colab import drive\n",
        "\n",
        "from keras.preprocessing.image import ImageDataGenerator, array_to_img, img_to_array, load_img\n",
        "import matplotlib.pyplot as plt\n",
        "%matplotlib inline"
      ],
      "execution_count": 1,
      "outputs": [
        {
          "output_type": "stream",
          "text": [
            "Mounted at /content/gdrive\n"
          ],
          "name": "stdout"
        }
      ]
    },
    {
      "cell_type": "code",
      "metadata": {
        "colab": {
          "base_uri": "https://localhost:8080/"
        },
        "id": "6dt9lxUrsQdy",
        "outputId": "2b45cbe2-e069-4b06-87fb-7bcda0054fb1"
      },
      "source": [
        "# Mount Google Drive files, set up and navigate into OS working environment\n",
        "drive.mount('/content/gdrive')\n",
        "os.environ['KAGGLE_CONFIG_DIR'] = \"/content/gdrive/My Drive/kaggle\"\n",
        "# Same as %cd /content/gdrive/My Drive/kaggle , make sure it works first\n",
        "os.chdir(/content/gdrive/My Drive/kaggle)\n",
        "os.getcwd()"
      ],
      "execution_count": 2,
      "outputs": [
        {
          "output_type": "stream",
          "text": [
            "/content/gdrive/My Drive/kaggle\n",
            "kaggle.json\n"
          ],
          "name": "stdout"
        }
      ]
    },
    {
      "cell_type": "code",
      "metadata": {
        "colab": {
          "base_uri": "https://localhost:8080/"
        },
        "id": "nWOvNWensZcn",
        "outputId": "dc18490d-b0d3-4a48-d195-bb1dd82ccf83"
      },
      "source": [
        "# Download dataset from Kaggle competition website\n",
        "#!kaggle datasets download -d paultimothymooney/chest-xray-pneumonia"
      ],
      "execution_count": 26,
      "outputs": [
        {
          "output_type": "stream",
          "text": [
            "Downloading chest-xray-pneumonia.zip to /content/gdrive/My Drive/kaggle\n",
            "100% 2.29G/2.29G [00:24<00:00, 96.4MB/s]\n",
            "100% 2.29G/2.29G [00:24<00:00, 101MB/s] \n"
          ],
          "name": "stdout"
        }
      ]
    },
    {
      "cell_type": "code",
      "metadata": {
        "id": "1kqbLs6Jtt-r"
      },
      "source": [
        "# Unzip file and remove zip\n",
        "#!unzip -q \\*.zip  && rm *.zip"
      ],
      "execution_count": null,
      "outputs": []
    },
    {
      "cell_type": "markdown",
      "metadata": {
        "id": "2YnJ-yknG9aK"
      },
      "source": [
        "# Start here after a time out?"
      ]
    },
    {
      "cell_type": "markdown",
      "metadata": {
        "id": "kU6Igzj8HTpU"
      },
      "source": [
        "# Preprocessing"
      ]
    },
    {
      "cell_type": "code",
      "metadata": {
        "id": "okEZanTyyiq1"
      },
      "source": [
        "# Establish file paths for each of the folders\n",
        "test_path = '/content/gdrive/My Drive/kaggle/chest_xray/test'\n",
        "train_path = '/content/gdrive/My Drive/kaggle/chest_xray/train'\n",
        "val_path = '/content/gdrive/My Drive/kaggle/chest_xray/val'"
      ],
      "execution_count": 69,
      "outputs": []
    },
    {
      "cell_type": "code",
      "metadata": {
        "id": "8wO1ZiiIJzNd"
      },
      "source": [
        "#TODO visualize unprocessed image as example"
      ],
      "execution_count": null,
      "outputs": []
    },
    {
      "cell_type": "code",
      "metadata": {
        "colab": {
          "base_uri": "https://localhost:8080/"
        },
        "id": "BMRzv5Uk77xu",
        "outputId": "91ffff38-b87f-40ef-cc87-48e5122bed10"
      },
      "source": [
        "# Set image size\n",
        "img_size = (64, 64)\n",
        "\n",
        "# Instantiate image generators with rescale set to reduce RBG values to between 0 and 1\n",
        "rescale = (1./255)\n",
        "\n",
        "# Data is already split into train/test/validation by source, format for Keras\n",
        "print(\" Train:\")\n",
        "train_generator = ImageDataGenerator(rescale=rescale).flow_from_directory(\n",
        "        train_path, \n",
        "        target_size=img_size,\n",
        "        class_mode='binary',\n",
        "        batch_size=5216) \n",
        "\n",
        "print(\"\\n Test:\")\n",
        "test_generator = ImageDataGenerator(rescale=rescale).flow_from_directory(\n",
        "        test_path, \n",
        "        target_size=img_size,\n",
        "        class_mode='binary',\n",
        "        batch_size=624) \n",
        "\n",
        "print(\"\\n Validation:\")\n",
        "val_generator = ImageDataGenerator(rescale=rescale).flow_from_directory(\n",
        "        val_path, \n",
        "        target_size=img_size,\n",
        "        class_mode='binary',\n",
        "        batch_size=16) "
      ],
      "execution_count": 91,
      "outputs": [
        {
          "output_type": "stream",
          "text": [
            " Train:\n",
            "Found 5216 images belonging to 2 classes.\n",
            "\n",
            " Test:\n",
            "Found 624 images belonging to 2 classes.\n",
            "\n",
            " Validation:\n",
            "Found 16 images belonging to 2 classes.\n"
          ],
          "name": "stdout"
        }
      ]
    },
    {
      "cell_type": "code",
      "metadata": {
        "id": "D8tQoyyd770X"
      },
      "source": [
        "# Create the data sets from the generators, split features (images) from target (labels)\n",
        "train_images, train_labels = next(train_generator)\n",
        "test_images, test_labels = next(test_generator)\n",
        "val_images, val_labels = next(val_generator)"
      ],
      "execution_count": null,
      "outputs": []
    },
    {
      "cell_type": "code",
      "metadata": {
        "colab": {
          "base_uri": "https://localhost:8080/"
        },
        "id": "4NrkcEzjDXDx",
        "outputId": "52bf6005-2e18-4b69-beba-6d93101620c9"
      },
      "source": [
        "# Check that the data was generated properly\n",
        "# Expect image size to be (quantity, set image size x size, 3) and labels (quantity,)\n",
        "print(\"Train:\", train_images.shape, train_labels.shape)\n",
        "print(\"Test:\", test_images.shape, test_labels.shape)\n",
        "print(\"Val:\", val_images.shape, val_labels.shape)"
      ],
      "execution_count": 94,
      "outputs": [
        {
          "output_type": "stream",
          "text": [
            "Train: (5216, 64, 64, 3) (5216,)\n",
            "Test: (624, 64, 64, 3) (624,)\n",
            "Val: (16, 64, 64, 3) (16,)\n"
          ],
          "name": "stdout"
        }
      ]
    },
    {
      "cell_type": "code",
      "metadata": {
        "id": "xGBg2vvq773a"
      },
      "source": [
        "# # ONLY IF USING A NON- CNN MODEL FIRST\n",
        "# # reshape into single input vector of pixel values (check shape: quant, pix x pix x 3 rgb)\n",
        "# train_img = train_images.reshape(train_images.shape[0], -1)\n",
        "# test_img = test_images.reshape(test_images.shape[0], -1)\n",
        "# val_img = val_images.reshape(val_images.shape[0], -1)"
      ],
      "execution_count": null,
      "outputs": []
    },
    {
      "cell_type": "markdown",
      "metadata": {
        "id": "CsKQdjlqIqAm"
      },
      "source": [
        "# EDA"
      ]
    },
    {
      "cell_type": "code",
      "metadata": {
        "colab": {
          "base_uri": "https://localhost:8080/",
          "height": 243
        },
        "id": "bW8cidQR9q7c",
        "outputId": "a241cee0-3934-4f6c-f10e-354ba5a586e0"
      },
      "source": [
        "# Preview some processed images and labels\n",
        "[display(array_to_img(train_images[x])) for x in [10, 619, 1000]]\n",
        "train_labels[100:125]"
      ],
      "execution_count": 105,
      "outputs": [
        {
          "output_type": "display_data",
          "data": {
            "image/png": "[encoded data removed]",
            "text/plain": [
              "<PIL.Image.Image image mode=RGB size=64x64 at 0x7F8A842F87F0>"
            ]
          },
          "metadata": {
            "tags": []
          }
        },
        {
          "output_type": "display_data",
          "data": {
            "image/png": "[encoded data removed]",
            "text/plain": [
              "<PIL.Image.Image image mode=RGB size=64x64 at 0x7F8A842F8080>"
            ]
          },
          "metadata": {
            "tags": []
          }
        },
        {
          "output_type": "display_data",
          "data": {
            "image/png": "[encoded data removed]",
            "text/plain": [
              "<PIL.Image.Image image mode=RGB size=64x64 at 0x7F8A842F87F0>"
            ]
          },
          "metadata": {
            "tags": []
          }
        },
        {
          "output_type": "execute_result",
          "data": {
            "text/plain": [
              "array([0., 1., 0., 0., 1., 1., 1., 0., 1., 0., 1., 1., 1., 0., 1., 1., 1.,\n",
              "       1., 1., 1., 1., 1., 1., 1., 1.], dtype=float32)"
            ]
          },
          "metadata": {
            "tags": []
          },
          "execution_count": 105
        }
      ]
    },
    {
      "cell_type": "code",
      "metadata": {
        "id": "t-yH8Xe4IzV4"
      },
      "source": [
        "# TODO describe data, visualize a NORMAL and a PN"
      ],
      "execution_count": null,
      "outputs": []
    },
    {
      "cell_type": "code",
      "metadata": {
        "id": "2hAK6vEPCX4r"
      },
      "source": [
        ""
      ],
      "execution_count": null,
      "outputs": []
    },
    {
      "cell_type": "markdown",
      "metadata": {
        "id": "No7GNyYbIRjV"
      },
      "source": [
        "# Modeling"
      ]
    },
    {
      "cell_type": "markdown",
      "metadata": {
        "id": "m1r7CwyOIJ-I"
      },
      "source": [
        "### Baseline Model"
      ]
    },
    {
      "cell_type": "code",
      "metadata": {
        "id": "2Vt60PxwJVv5"
      },
      "source": [
        ""
      ],
      "execution_count": 105,
      "outputs": []
    },
    {
      "cell_type": "markdown",
      "metadata": {
        "id": "jJXXQjTXJWAF"
      },
      "source": [
        "### CNN"
      ]
    },
    {
      "cell_type": "code",
      "metadata": {
        "id": "j8D7kPqUJend"
      },
      "source": [
        ""
      ],
      "execution_count": null,
      "outputs": []
    },
    {
      "cell_type": "code",
      "metadata": {
        "id": "Kq-6SOSdJqRg"
      },
      "source": [
        ""
      ],
      "execution_count": null,
      "outputs": []
    },
    {
      "cell_type": "code",
      "metadata": {
        "id": "XOBVw8AnJqUa"
      },
      "source": [
        "# TODO visualize intermediate layers\n",
        "# TODO visualize model performance curves\n",
        "# TODO visualize heatmap of image patterns identified (HOW is model working?)\n"
      ],
      "execution_count": null,
      "outputs": []
    },
    {
      "cell_type": "code",
      "metadata": {
        "id": "ndOQuR6qJqXt"
      },
      "source": [
        ""
      ],
      "execution_count": null,
      "outputs": []
    }
  ]
}